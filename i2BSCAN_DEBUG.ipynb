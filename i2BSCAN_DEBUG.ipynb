{
 "cells": [
  {
   "cell_type": "markdown",
   "metadata": {},
   "source": [
    "\n",
    "# i2DBSCAN for DEBUGING\n",
    "\n",
    "### This code works for root files\n",
    "\n"
   ]
  },
  {
   "cell_type": "code",
   "execution_count": 1,
   "metadata": {},
   "outputs": [],
   "source": [
    "from __future__ import division\n",
    "import time\n",
    "def pedsub(img,pedarr):\n",
    "    return img - pedarr\n",
    "    \n",
    "def zsfullres(img_sub,noisearr,nsigma=1):\n",
    "    img_zs = np.where(img_sub > nsigma * noisearr, img_sub, 0)\n",
    "    return img_zs\n",
    "\n",
    "def noisearray(th2):\n",
    "    noisearr = np.zeros( (th2.GetNbinsX(),th2.GetNbinsY()) )\n",
    "    for ix in range(th2.GetNbinsX()):\n",
    "        for iy in range(th2.GetNbinsY()):\n",
    "            noisearr[ix][iy] = th2.GetBinError(ix+1,iy+1)\n",
    "    return noisearr\n",
    "\n",
    "def findedges(ybox,xbox,rescale):\n",
    "    from skimage.measure import find_contours\n",
    "    from numpy import zeros\n",
    "    from scipy.ndimage import uniform_filter\n",
    "    \n",
    "    mm = zeros([rescale,rescale],dtype=int)\n",
    "    mm[ybox,xbox]=10000\n",
    "    mm = uniform_filter(mm, size=5)\n",
    "    contours = find_contours(mm, 0.9)\n",
    "    return contours\n",
    "\n",
    "def noisereductor(edges,rescale):\n",
    "    tpx = 10\n",
    "\n",
    "    for i in range(1,rescale-2):\n",
    "        for j in range(1,rescale-2):\n",
    "            spx = edges[i,j]\n",
    "            mpx = (np.sum(edges[i-1:i+2,j-1:j+2])-spx)/8.\n",
    "            if np.abs(spx - mpx) > tpx :\n",
    "                edges[i,j] = mpx\n",
    "            if (mpx < 0.45):\n",
    "                edges[i,j] = 0\n",
    "    return edges\n",
    "\n",
    "def ordena_pontos(X):\n",
    "    n = len(X)\n",
    "    kern = []\n",
    "    for i in range(n):\n",
    "        x = X[i,0] * np.ones(n)\n",
    "        y = X[i,1] * np.ones(n)\n",
    "        e = np.e\n",
    "        fkernx = ((2*np.pi)**-0.5)*(e)**(-0.5*(x-X[:,0])**2)\n",
    "        fkerny = ((2*np.pi)**-0.5)*(e)**(-0.5*(y-X[:,1])**2)\n",
    "        kern.append(sum(fkernx)*sum(fkerny)/n)\n",
    "    \n",
    "    from operator import itemgetter\n",
    "    newdata = np.zeros([n,3])\n",
    "    newdata[:,0] = X[:,0]\n",
    "    newdata[:,1] = X[:,1]\n",
    "    newdata[:,2] = np.asarray(kern)\n",
    "    newdatalist= sorted(newdata,key=itemgetter(2),reverse=1)\n",
    "    newdataord = np.zeros([n,2],dtype=int)\n",
    "    for i in range(n):\n",
    "        newdataord[i,0] = int(newdatalist[i][0])\n",
    "        newdataord[i,1] = int(newdatalist[i][1])\n",
    "    return newdataord\n"
   ]
  },
  {
   "cell_type": "code",
   "execution_count": 2,
   "metadata": {
    "scrolled": true
   },
   "outputs": [
    {
     "name": "stdout",
     "output_type": "stream",
     "text": [
      "Welcome to JupyROOT 6.14/04\n"
     ]
    }
   ],
   "source": [
    "## IMPORTING LIBRARIES\n",
    "\n",
    "import matplotlib.pyplot as plt\n",
    "import numpy as np\n",
    "import seaborn as sns\n",
    "import ROOT\n",
    "import tools_lib as tl\n",
    "import sys\n",
    "sys.path.insert(1, '../')\n",
    "\n",
    "from iDBSCAN import iDBSCAN\n",
    "from root_numpy import hist2array\n",
    "from matplotlib.pyplot import *\n",
    "from scipy.spatial import distance\n",
    "from sklearn.cluster import DBSCAN\n",
    "from ddbscan_ import DDBSCAN\n",
    "from sklearn import metrics\n",
    "from IPython.display import set_matplotlib_formats\n",
    "from scipy.ndimage import gaussian_filter, median_filter\n"
   ]
  },
  {
   "cell_type": "code",
   "execution_count": null,
   "metadata": {
    "scrolled": false
   },
   "outputs": [
    {
     "name": "stdout",
     "output_type": "stream",
     "text": [
      "Filename: ../histograms_Run02097.root\n",
      "Picname: pic_run02097_ev53\n",
      "[Image Loaded]\n",
      "[Pedestal Loaded]\n",
      "Numero de pontos: 9021\n",
      "[Edges Calculated]\n",
      "[3D Method]\n",
      "Clusters found in DBSCAN: 33\n",
      "The point 882 has been assigned as part of a good fit\n",
      "The point 4784 has been assigned as part of a good fit\n",
      "The point 5845 has been assigned as part of a good fit\n",
      "The point 4380 has been assigned as part of a good fit\n",
      "The point 5042 has been assigned as part of a good fit\n",
      "The point 4156 has been assigned as part of a good fit\n"
     ]
    }
   ],
   "source": [
    "\n",
    "\n",
    "%matplotlib inline\n",
    "## Setting plotting parameters\n",
    "set_matplotlib_formats('png', 'pdf')\n",
    "sns.set_context('poster')\n",
    "sns.set_style('white')\n",
    "sns.set_color_codes()\n",
    "plot_kwds = {'alpha' : 0.5, 's' : 30, 'linewidths':0}\n",
    "cmapcolor = 'gray' # or 'viridis'\n",
    "vmin      = 99\n",
    "vmax      = 125\n",
    "figsizeX  = 12 \n",
    "figsizeY  = 12\n",
    "\n",
    "## Setting Debug Flags\n",
    "\n",
    "flag_full_image     = 1\n",
    "flag_rebin_image    = 1\n",
    "flag_edges_image    = 1\n",
    "flag_first_it       = 1\n",
    "flag_stats          = 1\n",
    "\n",
    "\n",
    "## Setting environments variables\n",
    "\n",
    "rescale     = 512\n",
    "cimax       = 200\n",
    "nsigma      = 1.3        # numero di sigma sopra il piedistallo\n",
    "\n",
    "## Setting i2DBSCAN parameters\n",
    "\n",
    "iterative     = 4\n",
    "tip           = '3D'               # 3D\n",
    "\n",
    "scale = 4\n",
    "\n",
    "if tip == '3D':\n",
    "    #vector_eps         =  [1,   2.5,  5.8,  4]    #[ 3,    5,  7,  9]   #[2.26, 3, 3.5, 4]     #[2, 3, 3.5, 4]      #FOR FNG    #[2.26, 3.5, 2.8, 6]\n",
    "    #vector_min_samples =  [1, 104, 30, 20]         #[30,  200,  100, 100] #[30,  150,  80, 40]   #[30,  55,  28, 13]    #[3,  55,  28, 13]            # [2, 30, 6, 2]\n",
    "    vector_eps         =  [5.8,   2.5,  5.8,  4]\n",
    "    vector_min_samples =  [30, 104, 30, 20]\n",
    "    #vector_eps         = list(np.array(vector_eps, dtype=float)/scale)\n",
    "    #vector_min_samples = list(np.array(vector_min_samples, dtype=float)/scale)\n",
    "    eps = 5.8\n",
    "    min_pts = 30\n",
    "else:\n",
    "    vector_eps         = [1, 2.9, 3.2, 4]\n",
    "    vector_min_samples = [4,  18,  17, 7]\n",
    "    eps = 3.2\n",
    "    min_pts = 17\n",
    "\n",
    "cuts = [1500, 400]                # the cut on the length of the track for iteration 1 and 2\n",
    "cuts = list(np.array(cuts, dtype=float)/scale)\n",
    "\n",
    "## File folder\n",
    "evt               = '00053'#'00016'         # Use always FIVE caracters\n",
    "numrun            = '02097'#'00724'         # Use always FIVE caracters\n",
    "formattype        = 'mid'            # If the root files comes from h5 conversion use = 'h5'\n",
    "filedir           = '../'   # Folder where the root file is placed\n",
    "peddir            = '../pedestals/'   # Folder where the pedestal file is placed\n",
    "expo              = '02316'             # Exposure time of the pedestal in ms\n",
    "\n",
    "## Loading image for analysis\n",
    "# otherwise use 'mid'\n",
    "if formattype == 'mid':\n",
    "    imagename     = 'histograms_Run'\n",
    "    picname       = 'pic_run%s_ev%d' % (numrun,int(evt))\n",
    "else:\n",
    "    imagename     = 'histogram_Run'\n",
    "    picname       = 'run%d_%s' % (int(numrun),evt)\n",
    "    \n",
    "filename = '%s%s%s.root' % (filedir,imagename,numrun)\n",
    "\n",
    "print('Filename: %s' % (filename))\n",
    "print('Picname: %s' % (picname))\n",
    "    \n",
    "tf2 = ROOT.TFile.Open(filename)\n",
    "imageth2 = tf2.Get(picname)\n",
    "image = hist2array(imageth2)\n",
    "tf2.Close()\n",
    "\n",
    "if flag_full_image == 1:\n",
    "    fig = plt.figure(figsize=(figsizeX, figsizeY))\n",
    "    plt.imshow(image,cmap=cmapcolor, vmin=vmin,vmax=vmax,origin='lower' )\n",
    "    plt.title(\"Original Image\")\n",
    "    plt.colorbar()\n",
    "    \n",
    "    fig = plt.figure(figsize=(figsizeX, figsizeY))\n",
    "    plt.imshow(image,cmap=cmapcolor, vmin=95,vmax=105,origin='lower' )\n",
    "    plt.title(\"Original Image\")\n",
    "    plt.colorbar()\n",
    "\n",
    "print('[Image Loaded]')\n",
    "\n",
    "# Loading Pedestal files\n",
    "\n",
    "\n",
    "tf2ped  = ROOT.TFile.Open('%spedmap_run%s_rebin1.root' % (peddir,expo))  # PEDESTAL MAP\n",
    "pedmap  = tf2ped.Get('pedmap').Clone()                               # Getting the pedmap\n",
    "pedmap.SetDirectory(None)\n",
    "m_image = hist2array(pedmap)\n",
    "\n",
    "s_image = noisearray(pedmap)\n",
    "\n",
    "tf2ped.Close()\n",
    "\n",
    "\n",
    "img_cimax = np.where(image < cimax, image, 0)\n",
    "img_fr_sub = pedsub(img_cimax,m_image)\n",
    "img_fr_zs  = zsfullres(img_fr_sub,s_image,nsigma=nsigma)\n",
    "\n",
    "\n",
    "print('[Pedestal Loaded]')\n",
    "\n",
    "# Subtracting Pedestal from Image\n",
    "rebin_image     = tl.rebin(image, (rescale, rescale))\n",
    "\n",
    "edges  = tl.rebin(img_fr_zs,(rescale, rescale))\n",
    "edges = noisereductor(edges,rescale)\n",
    "edcopy = edges.copy()\n",
    "edcopyMedian = median_filter(edcopy, size=4)\n",
    "       \n",
    "points = np.array(np.nonzero(np.round(edcopyMedian))).astype(int).T\n",
    "lp = points.shape[0]\n",
    "print('Numero de pontos: %d' % (lp))\n",
    "\n",
    "\n",
    "if flag_rebin_image == 1:\n",
    "    fig = plt.figure(figsize=(figsizeX, figsizeY))\n",
    "    plt.imshow(rebin_image, cmap=cmapcolor, vmin=vmin, vmax=vmax, origin='lower' )\n",
    "    plt.title(\"Rebinned Image\")\n",
    "    \n",
    "if flag_edges_image == 1:\n",
    "#     fig = plt.figure(figsize=(figsizeX, figsizeY))\n",
    "#     plt.imshow(edges, cmap=cmapcolor, vmin=0, vmax=1, origin='lower' )\n",
    "#     plt.title(\"Edges Image\")\n",
    "    f,ax = plt.subplots(1,2,figsize=(40,20))\n",
    "    ax[0].imshow(edges, cmap=cmapcolor, vmin=0, vmax=1, origin='lower' )\n",
    "    ax[0].set_title('Edges after pedestal subtraction')\n",
    "    ax[1].imshow(edcopyMedian, cmap=cmapcolor, vmin=0, vmax=1, origin='lower' )\n",
    "    ax[1].set_title('Edges after Filtering')\n",
    "\n",
    "\n",
    "print('[Edges Calculated]')\n",
    "\n",
    "## Adding or not the third dimension\n",
    "X = points.copy()\n",
    "\n",
    "# if tip == '3D':\n",
    "#     lp = len(points)\n",
    "#     Xl = list(X.copy())\n",
    "#     for cor in X:\n",
    "#         for count in range(0,np.int(np.round(rebin_image[cor[0],cor[1]] - rebin_th_image[cor[0],cor[1]]) - 1)):\n",
    "#             Xl.append(cor)\n",
    "#     X = np.array(Xl)\n",
    "#     np.save('corImg.npz',X)\n",
    "#     print('[3D Method]')\n",
    "# else:\n",
    "#     print('[2D Method]')\n",
    "\n",
    "if tip=='3D':\n",
    "    Xl = [(ix,iy) for ix,iy in points]          # Aux variable to simulate the Z-dimension\n",
    "    X1 = np.array(Xl).copy()                    # variable to keep the 2D coordinates\n",
    "    for ix,iy in points:                        # Looping over the non-empty coordinates\n",
    "        nreplicas = int(edges[ix,iy])-1\n",
    "        for count in range(nreplicas):                                # Looping over the number of 'photons' in that coordinate\n",
    "            Xl.append((ix,iy))                              # add a coordinate repeatedly \n",
    "    X = np.array(Xl)                                        # Convert the list to an array\n",
    "    print('[3D Method]')\n",
    "else:\n",
    "    #     print('[2D Method]')\n",
    "    X = points.copy()\n",
    "    #X1 = X\n",
    "    \n",
    "## STARTING THE CLUSTERING\n",
    "### Defining some environment variables for i2DBSCAN\n",
    "#------------------------------------------------------------------\n",
    "#Modify path if in another PC\n",
    "#np.save('datateste'+evt,X)\n",
    "\n",
    "#tst = []\n",
    "#for i in range(30):\n",
    "t0 = time.time()\n",
    "clusters = DDBSCAN(eps=eps, epsransac = 15.5, min_samples = min_pts).fit(X)\n",
    "#tst.append(len(set(clusters.labels_[:,0])) - (1 if -1 in clusters.labels_[:,0] else 0))\n",
    "#if len(set(clusters.labels_[:,0])) - (1 if -1 in clusters.labels_[:,0] else 0) != 21:\n",
    "#   break\n",
    "t1 = time.time()\n",
    "clusters_teste = DBSCAN(eps=eps,min_samples=min_pts).fit(X)\n",
    "t2 = time.time()\n",
    "#clusters = iDBSCAN(iterative = 0, vector_eps = vector_eps, vector_min_samples = vector_min_samples, cuts = cuts, flag_plot_noise = 0 ).fit(X)\n",
    "#------------------------------------------------------------------ \n",
    "\n",
    "#if tip == '3D':\n",
    "#    teste = clusters.tag_\n",
    "#    clusters.labels_ = clusters.labels_[range(0,lp)]\n",
    "#    clusters.tag_ = clusters.tag_[range(0,lp)]\n",
    "#    X = points.copy()\n",
    "#print('[i2DBSCAN Calculated]')\n",
    "\n",
    "if flag_stats == 1:\n",
    "    print('[Statistics]')\n",
    "    n_clusters_ = len(set(clusters.labels_[:,0])) - (1 if -1 in clusters.labels_[:,0] else 0)\n",
    "    print(\"Total number of Clusters: %d\" % (n_clusters_))\n",
    "    \n",
    "    \n",
    "if flag_first_it == 1:\n",
    "    print('[Plotting 1st iteration]')\n",
    "    u,indices = np.unique(clusters.labels_[:,0],return_index = True)\n",
    "    \n",
    "    clu = [X[clusters.labels_[:,0] == i] for i in range(len(set(clusters.labels_[:,0])) - (1 if -1 in clusters.labels_[:,0] else 0))]\n",
    "    clu_tes = [X[clusters_teste.labels_ == i] for i in range(len(set(clusters_teste.labels_)) - (1 if -1 in clusters_teste.labels_ else 0))]\n",
    "    fig = plt.figure(figsize=(figsizeX, figsizeY))\n",
    "    plt.imshow(rebin_image,cmap=cmapcolor, vmin=vmin,vmax=vmax,origin='lower' )\n",
    "    plt.title(\"Clusters found DDBSCAN\")\n",
    "\n",
    "    for j in range(0,np.shape(clu)[0]):\n",
    "\n",
    "        ybox = clu[j][:,0]\n",
    "        \n",
    "        xbox = clu[j][:,1]\n",
    "\n",
    "        if (len(ybox) > 0) and (len(xbox) > 0):\n",
    "            contours = findedges(ybox,xbox,rescale)\n",
    "            for n, contour in enumerate(contours):\n",
    "                plt.plot(contour[:, 1],contour[:, 0], '-r',linewidth=2.5)\n",
    "        \n",
    "\n",
    "        "
   ]
  },
  {
   "cell_type": "code",
   "execution_count": null,
   "metadata": {
    "scrolled": false
   },
   "outputs": [],
   "source": [
    "f,ax = plt.subplots(1,3,figsize=(40,20))\n",
    "imagem = np.zeros([512,512,3])\n",
    "imagem_teste = np.zeros([512,512,3])\n",
    "for cluster in clu:\n",
    "    a = np.random.rand(3)\n",
    "    imagem[cluster[:,0],cluster[:,1]] = a\n",
    "for cluster in clu_tes:\n",
    "    a = np.random.rand(3)\n",
    "    imagem_teste[cluster[:,0],cluster[:,1]] = a\n",
    "\n",
    "ax[0].imshow(rebin_image, cmap=cmapcolor, vmin=vmin, vmax=vmax, origin='lower' )\n",
    "ax[0].set_title(\"Rebinned Image\")\n",
    "ax[1].imshow(imagem_teste,cmap='gray', origin='lower')\n",
    "ax[1].set_title('Output iDBSCAN')\n",
    "ax[2].imshow(imagem,cmap='gray', origin='lower')\n",
    "ax[2].set_title('Output iDDBSCAN')"
   ]
  },
  {
   "cell_type": "code",
   "execution_count": 6,
   "metadata": {},
   "outputs": [
    {
     "data": {
      "text/plain": [
       "<matplotlib.image.AxesImage at 0x7f0dbae8c890>"
      ]
     },
     "execution_count": 6,
     "metadata": {},
     "output_type": "execute_result"
    },
    {
     "data": {
      "application/pdf": "[encoded data removed]",
      "image/png": "[encoded data removed]",
      "text/plain": [
       "<Figure size 1440x1440 with 1 Axes>"
      ]
     },
     "metadata": {},
     "output_type": "display_data"
    }
   ],
   "source": [
    "plt.figure(figsize=[20,20])\n",
    "imagem = np.zeros([512,512,3])\n",
    "for cluster in clu_tes:\n",
    "    cluster = clu[0]\n",
    "    a = np.random.rand(3)\n",
    "    imagem[cluster[:,0],cluster[:,1]] = a\n",
    "plt.imshow(imagem,cmap='gray',origin='lower')"
   ]
  },
  {
   "cell_type": "code",
   "execution_count": 6,
   "metadata": {
    "scrolled": true
   },
   "outputs": [
    {
     "data": {
      "text/plain": [
       "array([[  0, 495],\n",
       "       [  0, 496],\n",
       "       [  0, 497],\n",
       "       [  0, 498],\n",
       "       [  0, 499],\n",
       "       [  0, 500],\n",
       "       [  0, 501],\n",
       "       [  1, 495],\n",
       "       [  1, 496],\n",
       "       [  1, 497],\n",
       "       [  1, 498],\n",
       "       [  1, 499],\n",
       "       [  1, 500],\n",
       "       [  1, 501],\n",
       "       [  2, 496],\n",
       "       [  2, 497],\n",
       "       [  2, 498],\n",
       "       [  2, 499],\n",
       "       [  2, 500],\n",
       "       [  2, 501],\n",
       "       [  3, 497],\n",
       "       [  3, 498],\n",
       "       [  3, 499],\n",
       "       [  3, 500],\n",
       "       [  4, 500],\n",
       "       [  4, 501],\n",
       "       [  5, 501],\n",
       "       [  6, 500],\n",
       "       [  6, 501],\n",
       "       [  7, 499],\n",
       "       [  7, 500],\n",
       "       [  8, 499],\n",
       "       [  9, 499],\n",
       "       [  0, 501],\n",
       "       [  1, 496],\n",
       "       [  1, 499],\n",
       "       [  7, 500]])"
      ]
     },
     "execution_count": 6,
     "metadata": {},
     "output_type": "execute_result"
    }
   ],
   "source": [
    "clu[4]"
   ]
  },
  {
   "cell_type": "code",
   "execution_count": 11,
   "metadata": {},
   "outputs": [
    {
     "data": {
      "text/plain": [
       "array([187, 235])"
      ]
     },
     "execution_count": 11,
     "metadata": {},
     "output_type": "execute_result"
    }
   ],
   "source": [
    "X[2004]"
   ]
  },
  {
   "cell_type": "code",
   "execution_count": 28,
   "metadata": {},
   "outputs": [],
   "source": [
    "cluster = clu_tes[17]\n",
    "np.save('iDDBSCAN_plot/clusters/clustertestespyder2.npy',cluster)"
   ]
  },
  {
   "cell_type": "code",
   "execution_count": 15,
   "metadata": {},
   "outputs": [
    {
     "data": {
      "text/plain": [
       "499.71659994125366"
      ]
     },
     "execution_count": 15,
     "metadata": {},
     "output_type": "execute_result"
    }
   ],
   "source": [
    "t1-t0"
   ]
  },
  {
   "cell_type": "code",
   "execution_count": null,
   "metadata": {},
   "outputs": [],
   "source": [
    "#Run 2317\n",
    "#Evento 12 requer um leve aumento no eps ransac, mas cagaria o resultado do evento 5 por exemplo.\n",
    "# Eventos que requerem aumento para epsransac = 12, 32, 38 - traço sobreposto que da p tirar algo a mais se aumentar, 41, 50, 57,\n",
    "# 65, 69, 72, 75, 84\n",
    "# Eventos que vão ser prejudicados pelo aumento: \n",
    "\n",
    "#Eventos pra mostrar: 5, 6, 7, 22 - traços sobrepostos, 23 - traços sobrepostos e bem distantes, 28 - traços sobrepostos,\n",
    "# 29 - sobreposto mas bom, 34, 38, 39, 62, 82 - sobrpostos que não tinha oq fazer, 93, 95\n",
    "\n",
    "#Eventos com resultado ruim: 51\n",
    "\n",
    "#Dar uma olhada no 27, 42, 45, 48, 56, 60, 65, 74, 79, 80, 85\n",
    "\n",
    "#Eventos em que o fit ficou ruim pq são paralelos ao eixo x: 76, 77\n",
    "\n",
    "#Eventos que deu problema no ransac: 78"
   ]
  },
  {
   "cell_type": "code",
   "execution_count": null,
   "metadata": {},
   "outputs": [],
   "source": [
    "#Run 2320\n",
    "#Leve aumento do eps talvez melhore - 02, 07, 14, 19 (Esse aq é nice p mostrar), 20, 25, 26 (Só se aumentasse mt), \n",
    "#Eventos sobrepostos - 01, 03, 21 (nice pra mostrar tb), 23 (bom p mostrar tb), 24 (Evento com tracks sobrepostos que mostra bem o problema),\n",
    "\n",
    "#Dar uma olhada - 05, 12, 31\n",
    "#Eventos pra mostrar - 06, 11 (nao mudou nada), "
   ]
  },
  {
   "cell_type": "code",
   "execution_count": null,
   "metadata": {},
   "outputs": [],
   "source": [
    "#Run 2097\n",
    "#Imagens para mostrar: 18 (TOP DEMAIS, coladinhos e classificados separadamente), 29 (Talvez um exemplo ruim do que pode ser missclassified)\n",
    "\n",
    "#Run 2098\n",
    "#Imagens para mostrar: 07 (Bom funcionamento, mas nao o melhor), 12 (overlapped bom), 18 (overlapped que nao tem oq fazer),\n",
    "#19 (overlapped que nao tem mt oq fazer), 23 (bonzin), 24 (Ilustra bem oq o aumento do eps ransac poderia causar), 29 (bom..)"
   ]
  },
  {
   "cell_type": "code",
   "execution_count": 6,
   "metadata": {},
   "outputs": [
    {
     "data": {
      "text/plain": [
       "array([-1,  0])"
      ]
     },
     "execution_count": 6,
     "metadata": {},
     "output_type": "execute_result"
    }
   ],
   "source": [
    "clusters.labels_[61]"
   ]
  },
  {
   "cell_type": "code",
   "execution_count": null,
   "metadata": {},
   "outputs": [],
   "source": [
    "Tentar olhar o passo a passo do (2317 - 28)"
   ]
  }
 ],
 "metadata": {
  "kernelspec": {
   "display_name": "Python 2",
   "language": "python",
   "name": "python2"
  },
  "language_info": {
   "codemirror_mode": {
    "name": "ipython",
    "version": 2
   },
   "file_extension": ".py",
   "mimetype": "text/x-python",
   "name": "python",
   "nbconvert_exporter": "python",
   "pygments_lexer": "ipython2",
   "version": "2.7.18rc1"
  }
 },
 "nbformat": 4,
 "nbformat_minor": 1
}
